{
 "cells": [
  {
   "cell_type": "markdown",
   "id": "6ce0294c",
   "metadata": {},
   "source": [
    "Resolveremos el suguiente problema con ayuda de $R$."
   ]
  },
  {
   "cell_type": "markdown",
   "id": "3819e091",
   "metadata": {},
   "source": [
    "## Problema estimación\n",
    "Se desea estimar la probabilidad de falla, $\\textit{p}$, en el proceso de producción mediante la observación de $\\textit{n}$ objetos elejidos independientemente. Se sabe que $\\textit{p}$ esta comprendida entre 0.1 y 0.3, por la información previa que se dispone sobre el proceso. Se desea hallar el tamaño de la muestra para que la probabilidad de que la proporción de objetos de la muestra difiera del verdadero valor de $\\textit{p}$ en menos de 0.001 sea al menos de 0.95."
   ]
  },
  {
   "cell_type": "markdown",
   "id": "77c76b9d",
   "metadata": {},
   "source": [
    "### Intento 1 \n",
    "\n",
    "Como primer intento de solución. Queremos encontrar $n$ tal que\n",
    "    $\\begin{align*}\n",
    "    \\mathbb{P}[p-0.01\\leq S_n \\leq p + 0.01] \\leq 0.95.\n",
    "    \\end{align*}$\n",
    "Restando en cada lado de las desigualdades $\\textit{p}$ y dividiendo entre $\\sqrt{\\sigma^2/n}$,  donde $\\sigma^2$ es la varianza del proceso visto como variable aleatoria, la igualdad anterior es quivalente a la expresión.\n",
    "    $\\begin{align*}\n",
    "    \\mathbb{P}\\left[\\frac{-0.01}{\\sqrt{\\sigma^2/n}}\\leq \\frac{S_n - p}{\\sqrt{\\sigma^2/n}} \\leq \\frac{0.01}{\\sqrt{\\sigma^2/n}}\\right] \\leq 0.95\n",
    "    \\end{align*}$\n",
    "\n",
    "Por el teorema central del límite, la probabilidad indicada es aproximadamente igual a $P[-0.01/\\sqrt{\\sigma^2/n}\\leq Z \\leq 0.01/\\sqrt{\\sigma^2/n}]\\leq 0.95$, donde $\\textit{Z}$ es una variable aleatoria con distribución normal estandar.\n",
    "\n",
    "La ecuación de aproximación es \n",
    "    $\\begin{align*}\n",
    "    \\phi(\\frac{0.01}{\\sqrt{\\sigma^2/n}})-\\phi(\\frac{-0.01}{\\sqrt{\\sigma^2/n}})=0.95\n",
    "    \\end{align*}$\n",
    "    \n",
    "De lo cual necesitamos encontrar $\\textit{x}$ tal que $\\phi(x)-\\phi(-x)=0.95$. El valor de $\\textit{x}$ es aproximadamente 1.69. De lo cual obtenemos la siguiente ecuacion   \n",
    "    $\\begin{align*}\n",
    "    \\frac{0.1}{\\sqrt{\\sigma^2/n}}=\\frac{0.1}{\\sqrt{(p(1-p))/n}}=1.69\n",
    "    \\end{align*}$\n",
    "\\#Pero aquí tenemos una ecuación con dos incognitas $\\textit{n}$ y $\\textit{p}$"
   ]
  },
  {
   "cell_type": "markdown",
   "id": "130b937a",
   "metadata": {},
   "source": [
    "### Intento 2\n",
    "Debido a que analiticamente no hemos llegado a una solución explicíta,  una manera ocupando el poder de $R$ es la siguiente"
   ]
  },
  {
   "cell_type": "code",
   "execution_count": 1,
   "id": "42608476",
   "metadata": {},
   "outputs": [],
   "source": [
    "#Recordemos que la suma de variables aleatorias bernoulli(p) es igual a una varble aleatoria binomial(n,p)\n",
    "#aprovechando lo anterior creamos la siguiente función\n",
    "\n",
    "#Esta función es asumir un error de 0.01 y ver cual es la probabilidad de que en una varible binomial(n,p)\n",
    "#obtegamos este rango\n",
    "calcPorcentaje <- function(n, p) {\n",
    "  a <- (p - 0.01)*(n)\n",
    "  b <- (p + 0.01)*(n)\n",
    "  porcentaje <- pbinom(b, n, p)-pbinom(a, n, p)\n",
    "  return(porcentaje)\n",
    "}"
   ]
  },
  {
   "cell_type": "code",
   "execution_count": 2,
   "id": "02daaaf4",
   "metadata": {},
   "outputs": [],
   "source": [
    "#la siguiente función nos da el tamaño de la muestra para el cual alcanzamos el porcentaje deseado\n",
    "tamanoMuestra <- function(p,probmax=0.95,n=0){\n",
    "  porcentaje <- 0 \n",
    "  while (porcentaje < probmax) {\n",
    "    porcentaje <- calcPorcentaje(n,p)\n",
    "    n = n + 1\n",
    "  }\n",
    " return(n-1)\n",
    "}"
   ]
  },
  {
   "cell_type": "code",
   "execution_count": 3,
   "id": "3f7d8654",
   "metadata": {},
   "outputs": [
    {
     "data": {
      "text/html": [
       "8010"
      ],
      "text/latex": [
       "8010"
      ],
      "text/markdown": [
       "8010"
      ],
      "text/plain": [
       "[1] 8010"
      ]
     },
     "metadata": {},
     "output_type": "display_data"
    }
   ],
   "source": [
    "#vectorizamos la fnción para que sea más sencillo trabajar y efectuamos la función a nuestro problema\n",
    "tamanoMuestraVec <- Vectorize(tamanoMuestra)\n",
    "z <- tamanoMuestraVec(p = seq(0.1,0.3,0.00005))\n",
    "max(z)"
   ]
  },
  {
   "cell_type": "code",
   "execution_count": 4,
   "id": "22d4480b",
   "metadata": {},
   "outputs": [
    {
     "data": {
      "image/png": "[encoded data removed]",
      "text/plain": [
       "Plot with title \"Tamaño de muestra\""
      ]
     },
     "metadata": {},
     "output_type": "display_data"
    }
   ],
   "source": [
    "plot(seq(0.1,0.3,0.00005), z, main=\"Tamaño de muestra\", xlab=\"Valor de p\", ylab=\"Tamaño de muestra\")"
   ]
  },
  {
   "cell_type": "code",
   "execution_count": 5,
   "id": "13d6b724",
   "metadata": {},
   "outputs": [
    {
     "data": {
      "text/html": [
       "0.950454239909082"
      ],
      "text/latex": [
       "0.950454239909082"
      ],
      "text/markdown": [
       "0.950454239909082"
      ],
      "text/plain": [
       "[1] 0.9504542"
      ]
     },
     "metadata": {},
     "output_type": "display_data"
    }
   ],
   "source": [
    "#lo anterior aunque es una buen número con el que podemos estimar, en el sentido estricto no necesariamente es la solución\n",
    "#y efectivamente pues estamos pensando en p de manera discreta, entonces conforme calculemos para valores de p más pequeños\n",
    "#haciendo calculos el número para obtener exactamente con un computo de diferencias de 0.0000001  el valor resultante es 8100\n",
    "#puede verificarse corriendo la siguiente línea de código\n",
    "\n",
    "calcPorcentajeVec <- Vectorize(calcPorcentaje)\n",
    "min(calcPorcentajeVec(8100,seq(0.1,0.3,0.00000001)))"
   ]
  },
  {
   "cell_type": "code",
   "execution_count": 6,
   "id": "a2b116d8",
   "metadata": {},
   "outputs": [],
   "source": [
    "#aquí dependera de cual es el costo de producir focos, para ver si tomamos la decisión de estimar con 8010 o con 8100"
   ]
  }
 ],
 "metadata": {
  "kernelspec": {
   "display_name": "R",
   "language": "R",
   "name": "ir"
  },
  "language_info": {
   "codemirror_mode": "r",
   "file_extension": ".r",
   "mimetype": "text/x-r-source",
   "name": "R",
   "pygments_lexer": "r",
   "version": "3.6.1"
  }
 },
 "nbformat": 4,
 "nbformat_minor": 5
}
